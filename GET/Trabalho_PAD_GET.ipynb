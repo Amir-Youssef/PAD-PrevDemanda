{
  "nbformat": 4,
  "nbformat_minor": 0,
  "metadata": {
    "colab": {
      "provenance": [],
      "authorship_tag": "ABX9TyOJU7uD2mF//rhB63A/tVNK",
      "include_colab_link": true
    },
    "kernelspec": {
      "name": "python3",
      "display_name": "Python 3"
    },
    "language_info": {
      "name": "python"
    }
  },
  "cells": [
    {
      "cell_type": "markdown",
      "metadata": {
        "id": "view-in-github",
        "colab_type": "text"
      },
      "source": [
        "<a href=\"https://colab.research.google.com/github/Amir-Youssef/PAD-PrevDemanda/blob/main/Trabalho_PAD_GET.ipynb\" target=\"_parent\"><img src=\"https://colab.research.google.com/assets/colab-badge.svg\" alt=\"Open In Colab\"/></a>"
      ]
    },
    {
      "cell_type": "markdown",
      "source": [
        "###Unindo vários arquivos csv para montar o dataset\n"
      ],
      "metadata": {
        "id": "qjlpzUDz28A9"
      }
    },
    {
      "cell_type": "code",
      "execution_count": null,
      "metadata": {
        "id": "yv3Zwj462W7f"
      },
      "outputs": [],
      "source": [
        "import os\n",
        "import pandas as pd\n",
        "\n",
        "def carregar_csv_do_diretorio(diretorio):\n",
        "    dataframes = []\n",
        "\n",
        "    # Listar todos os arquivos no diretório\n",
        "    arquivos = os.listdir(diretorio)\n",
        "\n",
        "    # Filtrar apenas os arquivos CSV\n",
        "    arquivos_csv = [arquivo for arquivo in arquivos if arquivo.endswith('.csv')]\n",
        "\n",
        "    # Carregar cada arquivo CSV em um dataframe e armazená-lo na lista\n",
        "    for arquivo_csv in arquivos_csv:\n",
        "        caminho_completo = os.path.join(diretorio, arquivo_csv)\n",
        "        df = pd.read_csv(caminho_completo, encoding='latin-1' )\n",
        "        dataframes.append(df)\n",
        "\n",
        "    return dataframes\n",
        "\n",
        "# Substitua 'caminho_do_diretorio' pelo caminho completo do diretório que contém os arquivos CSV\n",
        "caminho_do_diretorio = './'\n",
        "dataframes_carregados = carregar_csv_do_diretorio(caminho_do_diretorio)\n",
        "\n",
        "# Agora você tem uma lista de dataframes, cada dataframe contendo os dados de um arquivo CSV do diretório\n",
        "# Você pode acessar e manipular os dataframes conforme necessário\n",
        "\n",
        "\n",
        "for i, df in enumerate(dataframes_carregados, 1):\n",
        "        #print(f\"DataFrame {i}:\")\n",
        "        print(i,df.shape)\n",
        "        print(list(df.columns))\n"
      ]
    },
    {
      "cell_type": "code",
      "source": [
        "df_completo = pd.concat( dataframes_carregados )\n",
        "caminho_arquivo_saida = 'df_completo.csv'\n",
        "df_completo.to_csv(caminho_arquivo_saida, index=False)"
      ],
      "metadata": {
        "id": "cPEwP_SI2oI_"
      },
      "execution_count": null,
      "outputs": []
    }
  ]
}